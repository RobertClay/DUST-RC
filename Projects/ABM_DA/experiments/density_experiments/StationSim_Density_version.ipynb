{
 "cells": [
  {
   "cell_type": "markdown",
   "metadata": {},
   "source": [
    "# StationSim - Density version\n",
    "    author: P. Ternes\n",
    "    created: 20/08/2020"
   ]
  },
  {
   "cell_type": "markdown",
   "metadata": {},
   "source": [
    "In this text we track changes made in the StationSim_gcs model to emulate the data from the Grand Central Station using a local geographic density as a interaction parameter.\n"
   ]
  },
  {
   "cell_type": "markdown",
   "metadata": {},
   "source": [
    "## Model code\n",
    "\n",
    "The StationSim density model code is the StationSim folder and is linked ['here.'](../../stationsim/stationsim_density_model.py)."
   ]
  },
  {
   "cell_type": "markdown",
   "metadata": {},
   "source": [
    "## Manly changes\n",
    "\n",
    "* Create a local geographic density parameter;\n",
    "* Create a get_local_density method;\n",
    "* Update the speed using the local geographic density;\n",
    "* Update the direction of movement using the local geographic density;\n",
    "* Remove some code parts;"
   ]
  },
  {
   "cell_type": "markdown",
   "metadata": {},
   "source": [
    "## StationSim Grand Central Terminal model\n",
    "\n",
    "The StationSim density version is based on StationSim Grand Central Terminal version.\n",
    "\n",
    "To know more about the StationSim_gcs you can access [`this notebook`](../gcs_experiments/StationSim_GrandCentral_version.ipynb) jupyter notebook. "
   ]
  },
  {
   "cell_type": "markdown",
   "metadata": {},
   "source": [
    "## Local Density\n",
    "\n",
    "In this model the interactions between the agents are controlled by one density parameter.\n",
    "This parameter mesures the local geographic density around each agent and is used to update the speed and direction of movemment. \n",
    "\n",
    "The local geographic density is defined as the number of neighbors agents (n) divided by the considered area (A).\n",
    "\n",
    "$$\\rho = \\frac{n}{A}.$$\n",
    "\n",
    "For this area the maximum possible density is\n",
    "\n",
    "$$\\rho_{max} = \\frac{N}{A},$$\n",
    "\n",
    "where N is the maximum possible number of agents inside the area A. Then, the normalized local geographic density is:\n",
    "\n",
    "$$\\rho^* = \\dfrac{\\rho}{\\rho_{max}} = \\dfrac{n}{N}.$$\n",
    "\n",
    "Consider the format of each agent to be a disk of radius $r$. The maximum possible number of agents insire a radius $R$ from the central agent is the total available area divided by the area that each agent:\n",
    "\n",
    "$$N = \\dfrac{\\pi (R^2 - r^2)}{\\pi r^2},$$\n",
    "\n",
    "finally, the normalized local geographic density can be rewritten as:\n",
    "\n",
    "$$\\rho^* = n \\dfrac{r^2}{(R^2 - r^2)}.$$\n",
    "\n",
    "\n",
    "To obtain the normalized local geographic density it is necessary call the <b>get_local_density</b> method:\n"
   ]
  },
  {
   "cell_type": "code",
   "execution_count": null,
   "metadata": {},
   "outputs": [],
   "source": [
    "def get_local_density(self):\n",
    "    '''\n",
    "     A function to determine the normalized\n",
    "     local geographic density around each agent. \n",
    "    '''\n",
    "\n",
    "    state = self.model.get_state('location2D')\n",
    "    self.model.tree = cKDTree(state)\n",
    "    neighbouring_agents = self.model.tree.query_ball_point(self.location, self.local_density_radius)\n",
    "    self.local_density = len(neighbouring_agents) * self.size**2 / \n",
    "                                                (self.local_density_radius**2 - self.size**2) # density between 0-1"
   ]
  },
  {
   "cell_type": "markdown",
   "metadata": {},
   "source": [
    "## Speed\n",
    "\n",
    "Each agent receives a speed value ($v$) when created. This value represents the maximum possible speed that each agent can walk.\n",
    "\n",
    "If the agent is walking without any other agent around, then the agent can walk with the maximum speed. If the agent is in a very crowed situation, then the agent walks more slowly. Therefore, the speed is a function of the local densitity. In each time step the update value for speed ($v'$) is:\n",
    "\n",
    "$$ v' = v(1 - \\rho^*)$$"
   ]
  },
  {
   "cell_type": "markdown",
   "metadata": {},
   "source": [
    "## Direction of movement\n",
    "\n",
    "Each agent receives desired location when created.\n",
    "\n",
    "If the agent is walking without any other agent around, then the agent can walk in direction to the desired location. If the agent is in a very crowed situation, then the agent can chose different directions to give the next step. So, the change in the movement direction is related with the local density. \n",
    "\n",
    "To update the direction vector $(x,y)$, first a rotation angle $(\\theta)$ is draw from a gaussian distribution with mean of 0.0 and standart deviation of $(180^{\\circ}\\times\\rho^*)$. If the angle is positive, then the movement direction is rotated in an anticlockwise direction, and if the angle is negative, then the movement direction is rotated in a clockwise direction. The new direction $(x',y')$ after rotation is obtained using a rotation matrix:\n",
    "\n",
    "$$\\begin{bmatrix}x'\\\\ y'\\end{bmatrix} = \n",
    "\\begin{bmatrix} \\cos\\theta & -\\sin\\theta \\\\ \\sin\\theta & \\cos\\theta \\end{bmatrix}\n",
    "\\begin{bmatrix}x\\\\ y\\end{bmatrix} $$\n"
   ]
  },
  {
   "cell_type": "markdown",
   "metadata": {},
   "source": [
    "## Removed code\n",
    "\n",
    "All collision-related parts of the code are not required in this model and can be removed. This include the following methods:\n",
    "\n",
    "* get_collisionTime2Agents\n",
    "* get_collisionTimeWall\n",
    "* get_collisionTable\n",
    "* get_wiggleTable\n",
    "* set_wiggle"
   ]
  },
  {
   "cell_type": "markdown",
   "metadata": {},
   "source": [
    "#### Preliminar results\n",
    "\n",
    "Both, classical and Grand Central versions, are working with the new collision definition. The basic experiments for this model can be found at [`density_experiments`](density_experiments.ipynb)."
   ]
  }
 ],
 "metadata": {
  "kernelspec": {
   "display_name": "Python 3",
   "language": "python",
   "name": "python3"
  },
  "language_info": {
   "codemirror_mode": {
    "name": "ipython",
    "version": 3
   },
   "file_extension": ".py",
   "mimetype": "text/x-python",
   "name": "python",
   "nbconvert_exporter": "python",
   "pygments_lexer": "ipython3",
   "version": "3.6.8"
  }
 },
 "nbformat": 4,
 "nbformat_minor": 4
}
