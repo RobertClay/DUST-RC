{
 "cells": [
  {
   "cell_type": "code",
   "execution_count": 1,
   "metadata": {},
   "outputs": [],
   "source": [
    "from __future__ import print_function\n",
    "from ipywidgets import interact, interactive, fixed, interact_manual\n",
    "import ipywidgets as widgets\n",
    "from sys import path\n",
    "path.append('..')\n",
    "path.append('../stationsim')\n",
    "\n",
    "import ffmpeg\n",
    "from stationsim.stationsim_model import Model\n",
    "from stationsim.ukf import *\n",
    "from stationsim.ukf_aggregate import *\n",
    "\n",
    "\n",
    "from IPython.display import Video\n"
   ]
  },
  {
   "cell_type": "markdown",
   "metadata": {},
   "source": [
    "## Unscented Kalman Filter\n",
    "\n",
    "Using our established agent based model StationSim we wish to try and filter noisy measurements and improve prediction of agent positions. One such filter that can be used is the Unscented Kalman Filter. This filter was originially designed to apply traditional Kalman Filtering to non-linear functions and we wish to see if it is viable for StationSim as well."
   ]
  },
  {
   "cell_type": "code",
   "execution_count": 2,
   "metadata": {},
   "outputs": [
    {
     "name": "stdout",
     "output_type": "stream",
     "text": [
      "recalling ukf_pickle_30_0.5_0.5.pkl\n"
     ]
    }
   ],
   "source": [
    "np.random.seed(seed = 8) #hash if not needed.\n",
    "# this seed (8) is a good example of an agent getting stuck given 10 agents\n",
    "recall =True # recalling a pickled run or starting from scratch?\n",
    "do_pickle =True # if not recalling do you want to pickle this run so you can recall it?\n",
    "\n",
    "if not recall:\n",
    "\n",
    "    model_params = {\n",
    "    'pop_total': 5,\n",
    "\n",
    "    'width': 200,\n",
    "    'height': 100,\n",
    "\n",
    "    'gates_in': 3,\n",
    "    'gates_out': 2,\n",
    "    'gates_space': 1,\n",
    "    'gates_speed': 1,\n",
    "\n",
    "    'speed_min': .2,\n",
    "    'speed_mean': 1,\n",
    "    'speed_std': 1,\n",
    "    'speed_steps': 3,\n",
    "\n",
    "    'separation': 5,\n",
    "    'max_wiggle': 1,\n",
    "\n",
    "    'step_limit': 3600,\n",
    "\n",
    "    'do_history': True,\n",
    "    'do_print': True,\n",
    "    }\n",
    "    \"\"\"\n",
    "    Sensor_Noise - how reliable are measurements H_x. lower value implies more reliable\n",
    "    Process_Noise - how reliable is prediction fx lower value implies more reliable\n",
    "    sample_rate - how often to update kalman filter. higher number gives smoother predictions\n",
    "\n",
    "    prop - proportion of agents observed. this is a floor function that rounds the proportion \n",
    "    DOWN to the nearest intiger number of agents. 1 is all <1/pop_total is none\n",
    "\n",
    "    bring_noise: add noise to true ukf paths\n",
    "    noise: variance of said noise (0 mean)\n",
    "    do_batch - do batch processing on some pre-recorded truth data.\n",
    "    \"\"\"\n",
    "\n",
    "    filter_params = {      \n",
    "\n",
    "    \"Sensor_Noise\":  1, \n",
    "    \"Process_Noise\": 1, \n",
    "    'sample_rate': 5,\n",
    "    \"prop\": 0.5,\n",
    "    \"bring_noise\":True,\n",
    "    \"noise\":0.5,\n",
    "    \"do_batch\":False,\n",
    "\n",
    "    }\n",
    "\n",
    "    \"\"\"\n",
    "    a - alpha between 1 and 1e-4 typically determines spread of sigma points.\n",
    "    however for large dimensions may need to be even higher\n",
    "    b - beta set to 2 for gaussian. determines trust in prior distribution.\n",
    "    k - kappa usually 0 for state estimation and 3-dim(state) for parameters.\n",
    "    not 100% sure what kappa does. think its a bias parameter.\n",
    "    !! might be worth making an interactive notebook that varies these. for fun\n",
    "    \"\"\"\n",
    "\n",
    "    ukf_params = {\n",
    "\n",
    "    \"a\":1,\n",
    "    \"b\":2,\n",
    "    \"k\":0,\n",
    "\n",
    "    }\n",
    "\n",
    "    n = model_params[\"pop_total\"]\n",
    "    prop = filter_params[\"prop\"]\n",
    "    noise = filter_params[\"noise\"]\n",
    "\n",
    "    base_model = Model(**model_params)\n",
    "    u = ukf_ss(model_params,filter_params,ukf_params,base_model)\n",
    "    u.main()\n",
    "    if do_pickle:\n",
    "        f_name = f\"ukf_experiments/ukf_pickle_{n}_{prop}_{noise}.pkl\"\n",
    "        f = open(f_name,\"wb\")\n",
    "        pickle.dump(u,f)\n",
    "        f.close()\n",
    "        \n",
    "else:\n",
    "        \"file name to recall from certain parameters or enter own\"\n",
    "\n",
    "        n = 30\n",
    "        prop = 0.5 \n",
    "        noise = 0.5\n",
    "        \n",
    "        file_name = f\"ukf_pickle_{n}_{prop}_{noise}.pkl\"\n",
    "        print(\"recalling \"+ file_name)\n",
    "        f = open(\"ukf_experiments/\"+file_name,\"rb\")\n",
    "        u = pickle.load(f)\n",
    "        f.close()\n",
    "        filter_params = u.filter_params\n",
    "        model_params = u.model_params"
   ]
  },
  {
   "cell_type": "code",
   "execution_count": 3,
   "metadata": {},
   "outputs": [
    {
     "name": "stdout",
     "output_type": "stream",
     "text": [
      "Observed first then unobserved.\n"
     ]
    },
    {
     "name": "stderr",
     "output_type": "stream",
     "text": [
      "../stationsim/ukf.py:559: RuntimeWarning: Mean of empty slice\n",
      "  time_means = np.nanmean(c,axis=1)\n",
      "../stationsim/ukf.py:559: RuntimeWarning: Mean of empty slice\n",
      "  time_means = np.nanmean(c,axis=1)\n"
     ]
    },
    {
     "data": {
      "image/png": "[encoded data removed]",
      "text/plain": [
       "<Figure size 864x576 with 1 Axes>"
      ]
     },
     "metadata": {
      "needs_background": "light"
     },
     "output_type": "display_data"
    },
    {
     "data": {
      "image/png": "[encoded data removed]",
      "text/plain": [
       "<Figure size 864x576 with 1 Axes>"
      ]
     },
     "metadata": {
      "needs_background": "light"
     },
     "output_type": "display_data"
    }
   ],
   "source": [
    "if filter_params[\"sample_rate\"]>1:\n",
    "    obs,preds,full_preds,truth,nan_array= u.data_parser(True)\n",
    "else:\n",
    "    obs,preds,truth,nan_array= u.data_parser(True)\n",
    "\n",
    "preds[~nan_array]=np.nan #kill wierd tails of finished agents (remove this and see what happens)\n",
    "full_preds[~nan_array]=np.nan #kill wierd tails of finished agents (remove this and see what happens)\n",
    "truth[~nan_array]=np.nan\n",
    "\n",
    "\"initiate plot class using final instance of UKF. easier to do this that import numerous variables\"\n",
    "plts = plots(u,\"ukf_experiments/\")\n",
    "\n",
    "\"diagnostic plots, error matrices, and MAE over time\"\n",
    "print(\"Observed first then unobserved.\")\n",
    "save=True\n",
    "distances2,t_mean2 = plts.diagnostic_plots(truth,preds,True,save) #observed\n",
    "if filter_params[\"prop\"]<1:\n",
    "    distances,t_mean = plts.diagnostic_plots(truth,preds,False,save) #unobserved"
   ]
  },
  {
   "cell_type": "code",
   "execution_count": 4,
   "metadata": {},
   "outputs": [
    {
     "name": "stdout",
     "output_type": "stream",
     "text": [
      "650 frames generated.\n",
      "mp4 saved in:/home/rob/dust/Projects/ABM_DA/experiments\n"
     ]
    },
    {
     "data": {
      "text/html": [
       "<video src=\"ukf_experiments/pairwise_gif_30GIF.mp4\" controls  >\n",
       "      Your browser does not support the <code>video</code> element.\n",
       "    </video>"
      ],
      "text/plain": [
       "<IPython.core.display.Video object>"
      ]
     },
     "execution_count": 4,
     "metadata": {},
     "output_type": "execute_result"
    }
   ],
   "source": [
    "if filter_params[\"sample_rate\"]==1:\n",
    "    #plts.pair_frames(actual,preds)\n",
    "    #plts.heatmap(actual)\n",
    "    plts.pair_frames_stack_ellipse(truth,preds)\n",
    "\n",
    "else:\n",
    "    plts.pair_frames(truth,full_preds)\n",
    "    #plts.pair_frames_stack_ellipse(actual,full_preds)\n",
    "    #plts.heatmap(actual)\n",
    "    \n",
    "print (\"mp4 saved in:\" + str(os.getcwd()) )\n",
    "pop_total = model_params[\"pop_total\"]\n",
    "f_name = f'ukf_experiments/pairwise_gif_{pop_total}GIF.mp4'\n",
    "Video(f_name,mimetype=\"mp4\")\n"
   ]
  },
  {
   "cell_type": "code",
   "execution_count": 5,
   "metadata": {},
   "outputs": [
    {
     "name": "stdout",
     "output_type": "stream",
     "text": [
      "recalling ukf_agg_pickle_30_25_0.5.pkl\n"
     ]
    }
   ],
   "source": [
    "np.random.seed(seed = 8) #seeded example hash if want random\n",
    "# this seed (8) is a good example of an agent getting stuck for 10 agents\n",
    "\n",
    "recall = True #recall previous run\n",
    "do_pickle = True #pickle new run\n",
    "if not recall:\n",
    "    \"\"\"\n",
    "        width - corridor width\n",
    "        height - corridor height\n",
    "        pop_total -population total\n",
    "        entrances - how many entrances\n",
    "        entrance speed- mean entry speed for agents\n",
    "        exits - how many exits\n",
    "        exit_space- how wide are exits \n",
    "        speed_min - minimum agents speed to prevent ridiculuous iteration numbers\n",
    "        speed_mean - desired mean of normal distribution of speed of agents\n",
    "        speed_std - as above but standard deviation\n",
    "        speed_steps - how many levels of speed between min and max for each agent\n",
    "        separation - agent radius to determine collisions\n",
    "        wiggle - wiggle distance\n",
    "        batch_iterations - how many model steps to do as a maximum\n",
    "        3 do_ bools for saving plotting and animating data. \n",
    "    \"\"\"\n",
    "    model_params = {\n",
    "            'pop_total': 30,\n",
    "\n",
    "            'width': 200,\n",
    "            'height': 100,\n",
    "\n",
    "            'gates_in': 3,\n",
    "            'gates_out': 2,\n",
    "            'gates_space': 1,\n",
    "            'gates_speed': 1,\n",
    "\n",
    "            'speed_min': .2,\n",
    "            'speed_mean': 1,\n",
    "            'speed_std': 1,\n",
    "            'speed_steps': 3,\n",
    "\n",
    "            'separation': 5,\n",
    "            'max_wiggle': 1,\n",
    "\n",
    "            'step_limit': 3600,\n",
    "\n",
    "            'do_history': True,\n",
    "            'do_print': True,\n",
    "        }\n",
    "    \"\"\"\n",
    "    Sensor_Noise - how reliable are measurements H_x. lower value implies more reliable\n",
    "    Process_Noise - how reliable is prediction fx lower value implies more reliable\n",
    "    sample_rate - how often to update kalman filter. higher number gives smoother predictions\n",
    "    prop - proportion of agents observed. this is a floor function that rounds the proportion \n",
    "        DOWN to the nearest intiger number of agents. 1 is all <1/pop_total is none\n",
    "    bin_size - square sizes for aggregate plots,\n",
    "    do_batch - do batch processing on some pre-recorded truth data.\n",
    "    bring_noise - add noise to measurements?\n",
    "    noise - variance of added noise\n",
    "    \"\"\"\n",
    "\n",
    "    filter_params = {      \n",
    "\n",
    "            \"Sensor_Noise\":  1, \n",
    "            \"Process_Noise\": 1, \n",
    "            'sample_rate': 5,\n",
    "            \"do_restrict\": True, \n",
    "            \"prop\": 1,\n",
    "            \"bin_size\":25,\n",
    "            \"bring_noise\":True,\n",
    "            \"noise\":0.5,\n",
    "            \"do_batch\":False,\n",
    "            }\n",
    "\n",
    "    \"\"\"\n",
    "    a - alpha between 1 and 1e-4 typically determines spread of sigma points.\n",
    "        however for large dimensions may need to be even higher\n",
    "    b - beta set to 2 for gaussian. determines trust in prior distribution.\n",
    "    k - kappa usually 0 for state estimation and 3-dim(state) for parameters.\n",
    "        not 100% sure what kappa does. think its a bias parameter.\n",
    "    !! might be worth making an interactive notebook that varies these. for fun\n",
    "    \"\"\"\n",
    "\n",
    "    ukf_params = {\n",
    "            \"a\":30,\n",
    "            \"b\":2,\n",
    "            \"k\":0,\n",
    "            }\n",
    "\n",
    "    \"\"\"run and extract data\"\"\"\n",
    "    base_model = Model(**model_params)\n",
    "    poly_list = grid_poly(model_params[\"width\"],model_params[\"height\"],filter_params[\"bin_size\"]) #generic square grid over corridor\n",
    "    u_a = agg_ukf_ss(model_params,filter_params,ukf_params,poly_list,base_model)\n",
    "    u_a.main()\n",
    "\n",
    "    n = model_params[\"pop_total\"]\n",
    "    bin_size = filter_params[\"bin_size\"]\n",
    "    noise = filter_params[\"noise\"]\n",
    "    if do_pickle:\n",
    "        f_name = f\"ukf_agg_{n}_{bin_size}_{noise}.pkl\"\n",
    "        f = open(\"ukf_experiments/\"+f_name,\"wb\")\n",
    "        pickle.dump(u_a,f)\n",
    "        f.close()\n",
    "\n",
    "else:\n",
    "    \"file name to recall from certain parameters or enter own\"\n",
    "    n = 30\n",
    "    noise= 0.5 \n",
    "    bin_size = 25\n",
    "\n",
    "\n",
    "    file_name = f\"ukf_agg_pickle_{n}_{bin_size}_{noise}.pkl\"\n",
    "    print(\"recalling \" +file_name)\n",
    "    f = open(\"ukf_experiments/\"+file_name,\"rb\")\n",
    "    u_a = pickle.load(f)\n",
    "    f.close()\n",
    "    filter_params=u_a.filter_params\n",
    "\n",
    "    poly_list =u_a.poly_list #generic square grid over corridor\n"
   ]
  },
  {
   "cell_type": "code",
   "execution_count": 6,
   "metadata": {},
   "outputs": [
    {
     "name": "stderr",
     "output_type": "stream",
     "text": [
      "../stationsim/ukf_aggregate.py:783: RuntimeWarning: Mean of empty slice\n",
      "  time_means = np.nanmean(c,axis=1)\n"
     ]
    },
    {
     "data": {
      "image/png": "[encoded data removed]",
      "text/plain": [
       "<Figure size 864x576 with 1 Axes>"
      ]
     },
     "metadata": {
      "needs_background": "light"
     },
     "output_type": "display_data"
    }
   ],
   "source": [
    "agg_plts = agg_plots(u_a,\"ukf_experiments/\")\n",
    "aactual,apreds,afull_preds,atruth,anan_array= u_a.data_parser(True)\n",
    "apreds[~anan_array]=np.nan #kill wierd tails of finished agents (remove this and see what happens)\n",
    "afull_preds[~anan_array]=np.nan #kill wierd tails of finished agents (remove this and see what happens)\n",
    "atruth[~anan_array]=np.nan\n",
    "aactual = aactual[1:,:] #cut off wierd n/a start from StationSim\n",
    "\n",
    "distances,t_mean = agg_plts.agg_diagnostic_plots(atruth,apreds,True)"
   ]
  },
  {
   "cell_type": "code",
   "execution_count": 7,
   "metadata": {},
   "outputs": [
    {
     "name": "stdout",
     "output_type": "stream",
     "text": [
      "862 frames generated.\n",
      "862 frames generated.\n"
     ]
    }
   ],
   "source": [
    "agg_plts.pair_frames(atruth,afull_preds)\n",
    "agg_plts.heatmap(atruth,poly_list)\n",
    "\n"
   ]
  },
  {
   "cell_type": "code",
   "execution_count": 10,
   "metadata": {},
   "outputs": [
    {
     "data": {
      "text/html": [
       "<video controls  >\n",
       " <source src=\"data:mp4;base64,ukf_experiments/heatmap_30_.mp4\" type=\"mp4\">\n",
       " Your browser does not support the video tag.\n",
       " </video>"
      ],
      "text/plain": [
       "<IPython.core.display.Video object>"
      ]
     },
     "execution_count": 10,
     "metadata": {},
     "output_type": "execute_result"
    }
   ],
   "source": [
    "pop_total = u_a.model_params[\"pop_total\"]\n",
    "f_name2 = agg_plts.save_dir+f'aggregate_pairwise_{pop_total}.mp4'\n",
    "Video(f_name2,embed=True,mimetype=\"mp4\")\n",
    "f_name3 = agg_plts.save_dir+f'heatmap_{pop_total}_.mp4'\n",
    "Video(f_name3,embed=True,mimetype=\"mp4\")"
   ]
  },
  {
   "cell_type": "code",
   "execution_count": null,
   "metadata": {},
   "outputs": [],
   "source": []
  }
 ],
 "metadata": {
  "kernelspec": {
   "display_name": "Python 3",
   "language": "python",
   "name": "python3"
  },
  "language_info": {
   "codemirror_mode": {
    "name": "ipython",
    "version": 3
   },
   "file_extension": ".py",
   "mimetype": "text/x-python",
   "name": "python",
   "nbconvert_exporter": "python",
   "pygments_lexer": "ipython3",
   "version": "3.6.8"
  }
 },
 "nbformat": 4,
 "nbformat_minor": 4
}
